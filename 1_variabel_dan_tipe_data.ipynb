{
  "nbformat": 4,
  "nbformat_minor": 0,
  "metadata": {
    "colab": {
      "name": "1.variabel dan tipe data.ipynb",
      "provenance": [],
      "authorship_tag": "ABX9TyO4ky3qgypjSyLv+LvGnNa2",
      "include_colab_link": true
    },
    "kernelspec": {
      "name": "python3",
      "display_name": "Python 3"
    },
    "accelerator": "GPU"
  },
  "cells": [
    {
      "cell_type": "markdown",
      "metadata": {
        "id": "view-in-github",
        "colab_type": "text"
      },
      "source": [
        "<a href=\"https://colab.research.google.com/github/setyo-dwi-pratama/python-basics/blob/master/1_variabel_dan_tipe_data.ipynb\" target=\"_parent\"><img src=\"https://colab.research.google.com/assets/colab-badge.svg\" alt=\"Open In Colab\"/></a>"
      ]
    },
    {
      "cell_type": "markdown",
      "metadata": {
        "id": "dJi3X6tqbLWp",
        "colab_type": "text"
      },
      "source": [
        "# **MATERI 1**\n",
        "\n",
        "---\n",
        "\n",
        "# **VARIABEL DAN TIPE DATA**"
      ]
    },
    {
      "cell_type": "markdown",
      "metadata": {
        "id": "HmMgxbNnTe_w",
        "colab_type": "text"
      },
      "source": [
        "# **1. Variabel**\n",
        "*   Variabel merupakan tempat penyimpanan data atau nilai\n",
        "*   Sebuah variabel dalam python bisa diisi dengan berbagai tipe data\n",
        "*   Nama sebuah variabel tidak bisa diawali dengan angka/numerik\n",
        "*   Nama sebuah variabel selain keyword dari bahasa python\n",
        "*   Format variabel : Nama_variabel = data/nilai\n",
        "\n",
        "\n",
        "\n",
        "\n",
        "\n",
        "\n"
      ]
    },
    {
      "cell_type": "markdown",
      "metadata": {
        "id": "QppqWZI1ZqRC",
        "colab_type": "text"
      },
      "source": [
        "**a.   Membuat sebuah variabel dengan berbagai tipe data dan struktur data Python**\n",
        "\n"
      ]
    },
    {
      "cell_type": "code",
      "metadata": {
        "id": "LJB107RBXVtj",
        "colab_type": "code",
        "colab": {}
      },
      "source": [
        "var1 = 'Hello World!' \n",
        "var2 = 1234567890\n",
        "var3 = 0.123456789\n",
        "var4 = True\n",
        "var5 = 1j+1\n",
        "var6 = [1,2,3,4]\n",
        "var7 = (1,2,3,4)\n",
        "var8 = {1,2,3,4}\n",
        "var9 ={\"angka\":[1,2,3,4]}"
      ],
      "execution_count": 2,
      "outputs": []
    },
    {
      "cell_type": "markdown",
      "metadata": {
        "id": "s6qlKpt4aFyY",
        "colab_type": "text"
      },
      "source": [
        "**b. Memanggil variabel**"
      ]
    },
    {
      "cell_type": "code",
      "metadata": {
        "id": "eFMF-Y0DYqz3",
        "colab_type": "code",
        "colab": {
          "base_uri": "https://localhost:8080/",
          "height": 176
        },
        "outputId": "bf8fcbee-a74a-44d1-e106-40a11686e1f8"
      },
      "source": [
        "print(var1) #tipe data string\n",
        "print(var2) #tipe data integer\n",
        "print(var3) #tipe data float\n",
        "print(var4) #tipe data boolean\n",
        "print(var5) #tipe data Complex\n",
        "print(var6) #struktur list yang berisi tipe data integer\n",
        "print(var7) #struktur tuple yang berisi tipe data integer\n",
        "print(var8) #struktur set yang berisi tipe data integer\n",
        "print(var9) #struktur dictonary yang berisi tipe data integer"
      ],
      "execution_count": 17,
      "outputs": [
        {
          "output_type": "stream",
          "text": [
            "Hello World!\n",
            "1234567890\n",
            "0.123456789\n",
            "True\n",
            "(1+1j)\n",
            "[1, 2, 3, 4]\n",
            "(1, 2, 3, 4)\n",
            "{1, 2, 3, 4}\n",
            "{'angka': [1, 2, 3, 4]}\n"
          ],
          "name": "stdout"
        }
      ]
    },
    {
      "cell_type": "markdown",
      "metadata": {
        "id": "igq7wls7cc9S",
        "colab_type": "text"
      },
      "source": [
        "## **2. TIPE DATA DAN STRUKTUR**\n",
        "*   Tipe data dan struktur dalam python berguna untuk mengidentifikasikan sebuah data atau nilai \n",
        "*   Tipe data dan struktur mempunyai sifatnya masing-masing (akan dibahas masing-masing dimateri selanjutnya)\n",
        "\n",
        "**TIPE DATA:**\n",
        "1.   String\n",
        "2.   Number (Integer, Float, Complex, Boolean)\n",
        "**STRUKTUR DATA:**\n",
        "1.   List\n",
        "2.   Tuple\n",
        "3.   Set\n",
        "4.   Dictonary"
      ]
    },
    {
      "cell_type": "markdown",
      "metadata": {
        "id": "3c0DftUniD13",
        "colab_type": "text"
      },
      "source": [
        "**a. Melihat Tipe data dan Struktur data dari variabel**"
      ]
    },
    {
      "cell_type": "code",
      "metadata": {
        "id": "IvA_aPw3bDzd",
        "colab_type": "code",
        "colab": {
          "base_uri": "https://localhost:8080/",
          "height": 176
        },
        "outputId": "b3e439b4-ad4d-4aa8-897e-8199cc78ea21"
      },
      "source": [
        "print(var1,'Tipe data var1:', type(var1))\n",
        "print(var2,'Tipe data var2:', type(var2))\n",
        "print(var3,'Tipe data var3:', type(var3))\n",
        "print(var4,'Tipe data var4:', type(var4))\n",
        "print(var5,'Tipe data var5:', type(var5))\n",
        "print(var6,'Struktur data var6:', type(var6))\n",
        "print(var7,'Struktur data var7:', type(var7))\n",
        "print(var8,'Struktur data var8:', type(var8))\n",
        "print(var9,'Struktur data var9:', type(var9))"
      ],
      "execution_count": 21,
      "outputs": [
        {
          "output_type": "stream",
          "text": [
            "Hello World! Tipe data var1: <class 'str'>\n",
            "1234567890 Tipe data var2: <class 'int'>\n",
            "0.123456789 Tipe data var3: <class 'float'>\n",
            "True Tipe data var4: <class 'bool'>\n",
            "(1+1j) Tipe data var5: <class 'complex'>\n",
            "[1, 2, 3, 4] Struktur data var6: <class 'list'>\n",
            "(1, 2, 3, 4) Struktur data var7: <class 'tuple'>\n",
            "{1, 2, 3, 4} Struktur data var8: <class 'set'>\n",
            "{'angka': [1, 2, 3, 4]} Struktur data var9: <class 'dict'>\n"
          ],
          "name": "stdout"
        }
      ]
    },
    {
      "cell_type": "code",
      "metadata": {
        "id": "wIvbVwE1irH9",
        "colab_type": "code",
        "colab": {}
      },
      "source": [
        ""
      ],
      "execution_count": null,
      "outputs": []
    }
  ]
}