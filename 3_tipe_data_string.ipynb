{
  "nbformat": 4,
  "nbformat_minor": 0,
  "metadata": {
    "colab": {
      "name": "3.tipe data string.ipynb",
      "provenance": [],
      "authorship_tag": "ABX9TyPB1rwflNRNiP559WXNijOR",
      "include_colab_link": true
    },
    "kernelspec": {
      "name": "python3",
      "display_name": "Python 3"
    },
    "accelerator": "GPU"
  },
  "cells": [
    {
      "cell_type": "markdown",
      "metadata": {
        "id": "view-in-github",
        "colab_type": "text"
      },
      "source": [
        "<a href=\"https://colab.research.google.com/github/setyo-dwi-pratama/python-basics/blob/master/3_tipe_data_string.ipynb\" target=\"_parent\"><img src=\"https://colab.research.google.com/assets/colab-badge.svg\" alt=\"Open In Colab\"/></a>"
      ]
    },
    {
      "cell_type": "markdown",
      "metadata": {
        "id": "KdmiYuop3fcj",
        "colab_type": "text"
      },
      "source": [
        "# **MATERI 3**\n",
        "\n",
        "---\n",
        "\n",
        "# **TIPE DATA STRING**"
      ]
    },
    {
      "cell_type": "markdown",
      "metadata": {
        "id": "pklaB0-t4D7b",
        "colab_type": "text"
      },
      "source": [
        "* Tipe data string adalah tipe data untuk menampung data teks atau karakter\n",
        "\n",
        "* Data string ditandai dengan tanda kutip yang diantaranya dengan kutip satu (' '), kutip (\" \") dan kutip tiga (''' ''') atau (\"\"\" \"\"\"). Kutip tiga biasanya digunakan untuk membuat multiline string, dimana teks yang diinput bisa tersambung ke beberapa baris tanpa adanya tanda backslash (\\). sedangkan untuk kutip satu dan dua, ketika menginginkan pindah tab atau baris, perlu menggunakan backslash (\\t) untuk tab baru dan backslash (\\n) untuk pindah baris"
      ]
    },
    {
      "cell_type": "code",
      "metadata": {
        "id": "y0I3dQqk4AsB",
        "colab_type": "code",
        "colab": {
          "base_uri": "https://localhost:8080/",
          "height": 163
        },
        "outputId": "1a8e112a-3b18-498f-fdd1-e3f110deb21b"
      },
      "source": [
        "kutip_satu_n = 'selamat datang \\ndi github setyo dwi pratama'\n",
        "kutip_satu_t = 'selamat datang \\tdi github setyo dwi pratama'\n",
        "kutip_dua_n = \"selamat datang \\ndi github setyo dwi pratama\"\n",
        "kutip_dua_t = \"selamat datang \\tdi github setyo dwi pratama\"\n",
        "kutip_tiga_n = '''selamat datang \n",
        "di github setyo dwi pratama'''\n",
        "kutip_tiga_t = \"\"\"selamat datang      di github setyo dwi pratama\"\"\"\n",
        "\n",
        "print(kutip_satu_n)\n",
        "print(kutip_satu_t)\n",
        "print(kutip_dua_n)\n",
        "print(kutip_dua_t)\n",
        "print(kutip_tiga_n)\n",
        "print(kutip_tiga_t)"
      ],
      "execution_count": 11,
      "outputs": [
        {
          "output_type": "stream",
          "text": [
            "selamat datang \n",
            "di github setyo dwi pratama\n",
            "selamat datang \tdi github setyo dwi pratama\n",
            "selamat datang \n",
            "di github setyo dwi pratama\n",
            "selamat datang \tdi github setyo dwi pratama\n",
            "selamat datang \n",
            "di github setyo dwi pratama\n",
            "selamat datang      di github setyo dwi pratama\n"
          ],
          "name": "stdout"
        }
      ]
    },
    {
      "cell_type": "markdown",
      "metadata": {
        "id": "XgR4rhBW-epu",
        "colab_type": "text"
      },
      "source": [
        "# **3.1 Operasi Pada String**"
      ]
    },
    {
      "cell_type": "code",
      "metadata": {
        "id": "QbCIZgqr7tav",
        "colab_type": "code",
        "colab": {}
      },
      "source": [
        ""
      ],
      "execution_count": null,
      "outputs": []
    }
  ]
}